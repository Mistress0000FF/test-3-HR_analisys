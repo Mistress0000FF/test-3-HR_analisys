{
 "cells": [
  {
   "cell_type": "markdown",
   "id": "9e586ee3",
   "metadata": {},
   "source": [
    "# Тестовое задание на позицию - Аналитик данных (направление BI)\n",
    "исп.: Ю.В. Сулковская"
   ]
  },
  {
   "cell_type": "markdown",
   "id": "7808de68",
   "metadata": {},
   "source": [
    "Задание: Представлена штатная численность предприятия, которое имеет офисы по всей России. Период наблюдения - 5 месяцев.\\\n",
    "Сотрудник, отвечающий за подготовку отчетности на предприятии, при анализе таблицы столкнулся с некоторыми проблемами, которые мешают подготовить отчет руководству.\\\n",
    "Помогите ему, изучите данные и решите поставленные задачи."
   ]
  },
  {
   "cell_type": "code",
   "execution_count": 1,
   "id": "c7425baa",
   "metadata": {},
   "outputs": [],
   "source": [
    "import pandas as pd # v.1.5.3\n",
    "import plotly.express as px # v.5.9.0\n",
    "# from datetime import datetime, timedelta"
   ]
  },
  {
   "cell_type": "code",
   "execution_count": 2,
   "id": "fb8d63b2",
   "metadata": {},
   "outputs": [],
   "source": [
    "#изменяет формат графиков на png, для возможности отображения в GitHub.\n",
    "#*необходим только для публикации. В рамках анализа лучше не использовать, для возможности просмотра точных цифр на графиках.\n",
    "import plotly.io as pio\n",
    "pio.renderers.default = 'png' "
   ]
  },
  {
   "cell_type": "code",
   "execution_count": 3,
   "id": "57d7f22a",
   "metadata": {},
   "outputs": [],
   "source": [
    "cities = pd.read_excel('C:/Users/Julia/HEXProjects/datasets/HR_analisys/Города.xlsx')"
   ]
  },
  {
   "cell_type": "code",
   "execution_count": 4,
   "id": "d52abd44",
   "metadata": {
    "scrolled": false
   },
   "outputs": [
    {
     "data": {
      "text/html": [
       "<div>\n",
       "<style scoped>\n",
       "    .dataframe tbody tr th:only-of-type {\n",
       "        vertical-align: middle;\n",
       "    }\n",
       "\n",
       "    .dataframe tbody tr th {\n",
       "        vertical-align: top;\n",
       "    }\n",
       "\n",
       "    .dataframe thead th {\n",
       "        text-align: right;\n",
       "    }\n",
       "</style>\n",
       "<table border=\"1\" class=\"dataframe\">\n",
       "  <thead>\n",
       "    <tr style=\"text-align: right;\">\n",
       "      <th></th>\n",
       "      <th>Федеральный округ</th>\n",
       "      <th>Регион</th>\n",
       "      <th>Город</th>\n",
       "    </tr>\n",
       "  </thead>\n",
       "  <tbody>\n",
       "    <tr>\n",
       "      <th>0</th>\n",
       "      <td>ДФО</td>\n",
       "      <td>Амурская обл.</td>\n",
       "      <td>Белогорск</td>\n",
       "    </tr>\n",
       "    <tr>\n",
       "      <th>1</th>\n",
       "      <td>ДФО</td>\n",
       "      <td>Амурская обл.</td>\n",
       "      <td>Благовещенск</td>\n",
       "    </tr>\n",
       "    <tr>\n",
       "      <th>2</th>\n",
       "      <td>ДФО</td>\n",
       "      <td>Амурская обл.</td>\n",
       "      <td>Завитинск</td>\n",
       "    </tr>\n",
       "    <tr>\n",
       "      <th>3</th>\n",
       "      <td>ДФО</td>\n",
       "      <td>Амурская обл.</td>\n",
       "      <td>Магдагачи</td>\n",
       "    </tr>\n",
       "    <tr>\n",
       "      <th>4</th>\n",
       "      <td>ДФО</td>\n",
       "      <td>Амурская обл.</td>\n",
       "      <td>Свободный</td>\n",
       "    </tr>\n",
       "  </tbody>\n",
       "</table>\n",
       "</div>"
      ],
      "text/plain": [
       "  Федеральный округ         Регион         Город\n",
       "0               ДФО  Амурская обл.     Белогорск\n",
       "1               ДФО  Амурская обл.  Благовещенск\n",
       "2               ДФО  Амурская обл.     Завитинск\n",
       "3               ДФО  Амурская обл.     Магдагачи\n",
       "4               ДФО  Амурская обл.     Свободный"
      ]
     },
     "execution_count": 4,
     "metadata": {},
     "output_type": "execute_result"
    }
   ],
   "source": [
    "cities.head()"
   ]
  },
  {
   "cell_type": "markdown",
   "id": "3b124b17",
   "metadata": {},
   "source": [
    "Таблица Города:\n",
    "- Федеральный округ - Текст (пропуски не допускаются)\n",
    "- Регион - Текст (пропуски не допускаются)\n",
    "- Город - Текст (уникальный)\n"
   ]
  },
  {
   "cell_type": "code",
   "execution_count": 5,
   "id": "b4d95780",
   "metadata": {},
   "outputs": [
    {
     "data": {
      "text/plain": [
       "(493, 3)"
      ]
     },
     "execution_count": 5,
     "metadata": {},
     "output_type": "execute_result"
    }
   ],
   "source": [
    "cities.shape"
   ]
  },
  {
   "cell_type": "code",
   "execution_count": 6,
   "id": "1828fc3a",
   "metadata": {},
   "outputs": [
    {
     "data": {
      "text/plain": [
       "490"
      ]
     },
     "execution_count": 6,
     "metadata": {},
     "output_type": "execute_result"
    }
   ],
   "source": [
    "cities['Город'].nunique()"
   ]
  },
  {
   "cell_type": "markdown",
   "id": "9ec12cdc",
   "metadata": {},
   "source": [
    "- с помощью метода nunique() были обнаружены дубликаты, которые можны убрать методом drop_duplicates() по полю Город:"
   ]
  },
  {
   "cell_type": "code",
   "execution_count": 7,
   "id": "7d19f902",
   "metadata": {},
   "outputs": [],
   "source": [
    "cities = cities.drop_duplicates(subset='Город')"
   ]
  },
  {
   "cell_type": "code",
   "execution_count": 8,
   "id": "3b372063",
   "metadata": {},
   "outputs": [
    {
     "data": {
      "text/plain": [
       "Федеральный округ    object\n",
       "Регион               object\n",
       "Город                object\n",
       "dtype: object"
      ]
     },
     "execution_count": 8,
     "metadata": {},
     "output_type": "execute_result"
    }
   ],
   "source": [
    "cities.dtypes"
   ]
  },
  {
   "cell_type": "code",
   "execution_count": 9,
   "id": "79c64c19",
   "metadata": {},
   "outputs": [],
   "source": [
    "employees = pd.read_excel('C:/Users/Julia/HEXProjects/datasets/HR_analisys/ШЧ.xlsx')"
   ]
  },
  {
   "cell_type": "code",
   "execution_count": 10,
   "id": "c14540fe",
   "metadata": {},
   "outputs": [
    {
     "data": {
      "text/html": [
       "<div>\n",
       "<style scoped>\n",
       "    .dataframe tbody tr th:only-of-type {\n",
       "        vertical-align: middle;\n",
       "    }\n",
       "\n",
       "    .dataframe tbody tr th {\n",
       "        vertical-align: top;\n",
       "    }\n",
       "\n",
       "    .dataframe thead th {\n",
       "        text-align: right;\n",
       "    }\n",
       "</style>\n",
       "<table border=\"1\" class=\"dataframe\">\n",
       "  <thead>\n",
       "    <tr style=\"text-align: right;\">\n",
       "      <th></th>\n",
       "      <th>Период</th>\n",
       "      <th>ID должности</th>\n",
       "      <th>Табельный номер</th>\n",
       "      <th>Город</th>\n",
       "      <th>Должность</th>\n",
       "      <th>ФИО</th>\n",
       "    </tr>\n",
       "  </thead>\n",
       "  <tbody>\n",
       "    <tr>\n",
       "      <th>0</th>\n",
       "      <td>2023-01-01</td>\n",
       "      <td>1000</td>\n",
       "      <td>2201.0</td>\n",
       "      <td>Новоуральск</td>\n",
       "      <td>главный клиентский менеджер розничного бизнеса</td>\n",
       "      <td>Корнеев З.</td>\n",
       "    </tr>\n",
       "    <tr>\n",
       "      <th>1</th>\n",
       "      <td>2023-01-01</td>\n",
       "      <td>1001</td>\n",
       "      <td>2202.0</td>\n",
       "      <td>Оленегорск</td>\n",
       "      <td>управляющий операционным офисом</td>\n",
       "      <td>Сергеев Е.</td>\n",
       "    </tr>\n",
       "    <tr>\n",
       "      <th>2</th>\n",
       "      <td>2023-01-01</td>\n",
       "      <td>1002</td>\n",
       "      <td>2203.0</td>\n",
       "      <td>Североуральск</td>\n",
       "      <td>руководитель группы</td>\n",
       "      <td>Корнеев Д.</td>\n",
       "    </tr>\n",
       "    <tr>\n",
       "      <th>3</th>\n",
       "      <td>2023-01-01</td>\n",
       "      <td>1003</td>\n",
       "      <td>2204.0</td>\n",
       "      <td>Жуковка</td>\n",
       "      <td>офис-менеджер</td>\n",
       "      <td>Петров Н.</td>\n",
       "    </tr>\n",
       "    <tr>\n",
       "      <th>4</th>\n",
       "      <td>2023-01-01</td>\n",
       "      <td>1004</td>\n",
       "      <td>2205.0</td>\n",
       "      <td>Воркута</td>\n",
       "      <td>эксперт по работе с партнерами</td>\n",
       "      <td>Корнеев Я.</td>\n",
       "    </tr>\n",
       "  </tbody>\n",
       "</table>\n",
       "</div>"
      ],
      "text/plain": [
       "      Период ID должности  Табельный номер          Город  \\\n",
       "0 2023-01-01         1000           2201.0    Новоуральск   \n",
       "1 2023-01-01         1001           2202.0     Оленегорск   \n",
       "2 2023-01-01         1002           2203.0  Североуральск   \n",
       "3 2023-01-01         1003           2204.0        Жуковка   \n",
       "4 2023-01-01         1004           2205.0        Воркута   \n",
       "\n",
       "                                        Должность         ФИО  \n",
       "0  главный клиентский менеджер розничного бизнеса  Корнеев З.  \n",
       "1                 управляющий операционным офисом  Сергеев Е.  \n",
       "2                             руководитель группы  Корнеев Д.  \n",
       "3                                   офис-менеджер   Петров Н.  \n",
       "4                  эксперт по работе с партнерами  Корнеев Я.  "
      ]
     },
     "execution_count": 10,
     "metadata": {},
     "output_type": "execute_result"
    }
   ],
   "source": [
    "employees.head()"
   ]
  },
  {
   "cell_type": "markdown",
   "id": "b0af72c3",
   "metadata": {},
   "source": [
    "Таблица ШЧ:\n",
    "- Период - формат Дата (пропуски не допускаются)\n",
    "- ID должности - целое число (пропуски не допускаются, уникальный на каждый период)\n",
    "- Табельный номер - целое число (допускаются пропуски)\n",
    "- Город - Текст (допускаются пропуски)\n",
    "- Должность - Текст (допускаются пропуски)\n",
    "- ФИО - Текст (допускаются пропуски)\n"
   ]
  },
  {
   "cell_type": "code",
   "execution_count": 11,
   "id": "c734b02a",
   "metadata": {},
   "outputs": [
    {
     "data": {
      "text/plain": [
       "(4995, 6)"
      ]
     },
     "execution_count": 11,
     "metadata": {},
     "output_type": "execute_result"
    }
   ],
   "source": [
    "employees.shape"
   ]
  },
  {
   "cell_type": "code",
   "execution_count": 12,
   "id": "ec8d9884",
   "metadata": {},
   "outputs": [
    {
     "data": {
      "text/plain": [
       "Период             datetime64[ns]\n",
       "ID должности               object\n",
       "Табельный номер           float64\n",
       "Город                      object\n",
       "Должность                  object\n",
       "ФИО                        object\n",
       "dtype: object"
      ]
     },
     "execution_count": 12,
     "metadata": {},
     "output_type": "execute_result"
    }
   ],
   "source": [
    "employees.dtypes"
   ]
  },
  {
   "cell_type": "markdown",
   "id": "37df58e3",
   "metadata": {},
   "source": [
    "# 1. Предобработка данных"
   ]
  },
  {
   "cell_type": "markdown",
   "id": "0b78f40d",
   "metadata": {},
   "source": [
    "1.1 Рассмотрим ошибки, встречающиеся в датасетах:\n",
    "- Очевидная серийная дата экселя в виде \"44927\" и тд была сконвертирована в дату в самом экселе, для экономии моих нервов и времени;\n",
    "- Распространенными способами обнаружить битые данные, можно через методы dtypes, isna() или через unique();\n",
    "- В столбце ['ID должности'] с помощью методов dtypes и unique() выявлены данные в виде '1808,Шушары'. Лишние символы можно отрезать с помощью метода split():"
   ]
  },
  {
   "cell_type": "code",
   "execution_count": 13,
   "id": "753ba6ae",
   "metadata": {},
   "outputs": [
    {
     "data": {
      "text/plain": [
       "array([1000, 1001, 1002, ..., 1998, 1013, '1808,Шушары'], dtype=object)"
      ]
     },
     "execution_count": 13,
     "metadata": {},
     "output_type": "execute_result"
    }
   ],
   "source": [
    "employees['ID должности'].unique()"
   ]
  },
  {
   "cell_type": "code",
   "execution_count": 14,
   "id": "0d15113d",
   "metadata": {},
   "outputs": [],
   "source": [
    "employees['ID должности'] = employees['ID должности'].astype(str)\n",
    "employees['ID должности'] = employees.apply(lambda x:x['ID должности'].split(',')[0], axis=1)\n",
    "employees['ID должности'] = employees['ID должности'].astype(int)"
   ]
  },
  {
   "cell_type": "code",
   "execution_count": 15,
   "id": "59beb472",
   "metadata": {},
   "outputs": [
    {
     "data": {
      "text/plain": [
       "139"
      ]
     },
     "execution_count": 15,
     "metadata": {},
     "output_type": "execute_result"
    }
   ],
   "source": [
    "employees['Должность'].isna().sum()"
   ]
  },
  {
   "cell_type": "code",
   "execution_count": 16,
   "id": "6791c856",
   "metadata": {},
   "outputs": [
    {
     "data": {
      "text/plain": [
       "115"
      ]
     },
     "execution_count": 16,
     "metadata": {},
     "output_type": "execute_result"
    }
   ],
   "source": [
    "employees['Город'].isna().sum()"
   ]
  },
  {
   "cell_type": "code",
   "execution_count": 17,
   "id": "093466fd",
   "metadata": {},
   "outputs": [
    {
     "data": {
      "text/plain": [
       "112"
      ]
     },
     "execution_count": 17,
     "metadata": {},
     "output_type": "execute_result"
    }
   ],
   "source": [
    "employees['ФИО'].isna().sum()"
   ]
  },
  {
   "cell_type": "code",
   "execution_count": 18,
   "id": "b725a371",
   "metadata": {},
   "outputs": [
    {
     "data": {
      "text/plain": [
       "112"
      ]
     },
     "execution_count": 18,
     "metadata": {},
     "output_type": "execute_result"
    }
   ],
   "source": [
    "employees['Табельный номер'].isna().sum()"
   ]
  },
  {
   "cell_type": "markdown",
   "id": "f6250f13",
   "metadata": {},
   "source": [
    "1.2 Восстановим утерянные данные:\n",
    "- Из вышеуказанного я могу предположить, что количество пропусков в ФИО и Табельном номере являются корректными, тк должности могут быть вакантны;\n",
    "- От остальных пропусков можно избавиться, если заново переджоинить таблицу по Табельному номеру (для пропавших данных действующих сотрудников) и ID должности (для пропавших данных вакантных позиций), а затем избавиться от возможных дубликатов с помощью метода drop_duplicates (иные дубликаты в датасете не обнаружены):"
   ]
  },
  {
   "cell_type": "code",
   "execution_count": 19,
   "id": "f847db4f",
   "metadata": {},
   "outputs": [],
   "source": [
    "employees = employees[['Период','ID должности','Табельный номер']].merge(employees[['Табельный номер','Город','Должность','ФИО']], on='Табельный номер',how='left').drop_duplicates(subset=['Период','ID должности','Табельный номер'])"
   ]
  },
  {
   "cell_type": "code",
   "execution_count": 20,
   "id": "888f8f0c",
   "metadata": {},
   "outputs": [],
   "source": [
    "employees = employees.merge(employees[['ID должности','Должность','Город']].dropna().drop_duplicates(keep='first'), on='ID должности',how='left').drop_duplicates(subset=['Период','ID должности','Табельный номер']).drop(['Город_x','Должность_x'],axis=1).rename(columns={'Должность_y':'Должность','Город_y':'Город'})"
   ]
  },
  {
   "cell_type": "code",
   "execution_count": 21,
   "id": "1ef8a21c",
   "metadata": {},
   "outputs": [
    {
     "data": {
      "text/plain": [
       "(4995, 6)"
      ]
     },
     "execution_count": 21,
     "metadata": {},
     "output_type": "execute_result"
    }
   ],
   "source": [
    "employees.shape"
   ]
  },
  {
   "cell_type": "code",
   "execution_count": 22,
   "id": "80119519",
   "metadata": {},
   "outputs": [
    {
     "data": {
      "text/plain": [
       "0"
      ]
     },
     "execution_count": 22,
     "metadata": {},
     "output_type": "execute_result"
    }
   ],
   "source": [
    "employees['Должность'].isna().sum()"
   ]
  },
  {
   "cell_type": "code",
   "execution_count": 23,
   "id": "c371af37",
   "metadata": {},
   "outputs": [
    {
     "data": {
      "text/plain": [
       "112"
      ]
     },
     "execution_count": 23,
     "metadata": {},
     "output_type": "execute_result"
    }
   ],
   "source": [
    "employees['Табельный номер'].isna().sum()"
   ]
  },
  {
   "cell_type": "markdown",
   "id": "24dc903d",
   "metadata": {},
   "source": [
    "# 2. Сводные данные по месяцам"
   ]
  },
  {
   "cell_type": "markdown",
   "id": "a552ec3c",
   "metadata": {},
   "source": [
    "- 2.1 Для подсчета действующих сотрудников, необходимо сложить количество Табельных номеров:"
   ]
  },
  {
   "cell_type": "code",
   "execution_count": 24,
   "id": "a0568a06",
   "metadata": {},
   "outputs": [
    {
     "data": {
      "text/html": [
       "<div>\n",
       "<style scoped>\n",
       "    .dataframe tbody tr th:only-of-type {\n",
       "        vertical-align: middle;\n",
       "    }\n",
       "\n",
       "    .dataframe tbody tr th {\n",
       "        vertical-align: top;\n",
       "    }\n",
       "\n",
       "    .dataframe thead th {\n",
       "        text-align: right;\n",
       "    }\n",
       "</style>\n",
       "<table border=\"1\" class=\"dataframe\">\n",
       "  <thead>\n",
       "    <tr style=\"text-align: right;\">\n",
       "      <th></th>\n",
       "      <th>Период</th>\n",
       "      <th>Должность</th>\n",
       "      <th>Табельный номер</th>\n",
       "    </tr>\n",
       "  </thead>\n",
       "  <tbody>\n",
       "    <tr>\n",
       "      <th>0</th>\n",
       "      <td>2023-01-01</td>\n",
       "      <td>ведущий специалист</td>\n",
       "      <td>45</td>\n",
       "    </tr>\n",
       "    <tr>\n",
       "      <th>1</th>\n",
       "      <td>2023-01-01</td>\n",
       "      <td>главный клиентский менеджер розничного бизнеса</td>\n",
       "      <td>30</td>\n",
       "    </tr>\n",
       "    <tr>\n",
       "      <th>2</th>\n",
       "      <td>2023-01-01</td>\n",
       "      <td>главный кредитный аналитик</td>\n",
       "      <td>40</td>\n",
       "    </tr>\n",
       "    <tr>\n",
       "      <th>3</th>\n",
       "      <td>2023-01-01</td>\n",
       "      <td>главный менеджер</td>\n",
       "      <td>31</td>\n",
       "    </tr>\n",
       "    <tr>\n",
       "      <th>4</th>\n",
       "      <td>2023-01-01</td>\n",
       "      <td>главный менеджер по привлечению корпоративных ...</td>\n",
       "      <td>41</td>\n",
       "    </tr>\n",
       "    <tr>\n",
       "      <th>...</th>\n",
       "      <td>...</td>\n",
       "      <td>...</td>\n",
       "      <td>...</td>\n",
       "    </tr>\n",
       "    <tr>\n",
       "      <th>130</th>\n",
       "      <td>2023-05-01</td>\n",
       "      <td>управляющий директор</td>\n",
       "      <td>40</td>\n",
       "    </tr>\n",
       "    <tr>\n",
       "      <th>131</th>\n",
       "      <td>2023-05-01</td>\n",
       "      <td>управляющий директор - начальник отдела</td>\n",
       "      <td>46</td>\n",
       "    </tr>\n",
       "    <tr>\n",
       "      <th>132</th>\n",
       "      <td>2023-05-01</td>\n",
       "      <td>управляющий операционным офисом</td>\n",
       "      <td>36</td>\n",
       "    </tr>\n",
       "    <tr>\n",
       "      <th>133</th>\n",
       "      <td>2023-05-01</td>\n",
       "      <td>эксперт</td>\n",
       "      <td>27</td>\n",
       "    </tr>\n",
       "    <tr>\n",
       "      <th>134</th>\n",
       "      <td>2023-05-01</td>\n",
       "      <td>эксперт по работе с партнерами</td>\n",
       "      <td>37</td>\n",
       "    </tr>\n",
       "  </tbody>\n",
       "</table>\n",
       "<p>135 rows × 3 columns</p>\n",
       "</div>"
      ],
      "text/plain": [
       "        Период                                          Должность  \\\n",
       "0   2023-01-01                                 ведущий специалист   \n",
       "1   2023-01-01     главный клиентский менеджер розничного бизнеса   \n",
       "2   2023-01-01                         главный кредитный аналитик   \n",
       "3   2023-01-01                                   главный менеджер   \n",
       "4   2023-01-01  главный менеджер по привлечению корпоративных ...   \n",
       "..         ...                                                ...   \n",
       "130 2023-05-01                               управляющий директор   \n",
       "131 2023-05-01            управляющий директор - начальник отдела   \n",
       "132 2023-05-01                    управляющий операционным офисом   \n",
       "133 2023-05-01                                            эксперт   \n",
       "134 2023-05-01                     эксперт по работе с партнерами   \n",
       "\n",
       "     Табельный номер  \n",
       "0                 45  \n",
       "1                 30  \n",
       "2                 40  \n",
       "3                 31  \n",
       "4                 41  \n",
       "..               ...  \n",
       "130               40  \n",
       "131               46  \n",
       "132               36  \n",
       "133               27  \n",
       "134               37  \n",
       "\n",
       "[135 rows x 3 columns]"
      ]
     },
     "execution_count": 24,
     "metadata": {},
     "output_type": "execute_result"
    }
   ],
   "source": [
    "employees.groupby(['Период','Должность'],as_index=False)\\\n",
    "    .agg({'Табельный номер':'nunique'})"
   ]
  },
  {
   "cell_type": "markdown",
   "id": "97bf7440",
   "metadata": {},
   "source": [
    "- 2.2 Для подсчета количества вакантных мест, необходимо проставить логический признак на отсутствующие данные, а затем сложить их:"
   ]
  },
  {
   "cell_type": "code",
   "execution_count": 25,
   "id": "28fd3bb4",
   "metadata": {},
   "outputs": [],
   "source": [
    "employees['Вакансия'] = employees['Табельный номер'].isna()"
   ]
  },
  {
   "cell_type": "code",
   "execution_count": 26,
   "id": "0de2da93",
   "metadata": {},
   "outputs": [
    {
     "data": {
      "text/html": [
       "<div>\n",
       "<style scoped>\n",
       "    .dataframe tbody tr th:only-of-type {\n",
       "        vertical-align: middle;\n",
       "    }\n",
       "\n",
       "    .dataframe tbody tr th {\n",
       "        vertical-align: top;\n",
       "    }\n",
       "\n",
       "    .dataframe thead th {\n",
       "        text-align: right;\n",
       "    }\n",
       "</style>\n",
       "<table border=\"1\" class=\"dataframe\">\n",
       "  <thead>\n",
       "    <tr style=\"text-align: right;\">\n",
       "      <th></th>\n",
       "      <th>Период</th>\n",
       "      <th>Вакансия</th>\n",
       "    </tr>\n",
       "  </thead>\n",
       "  <tbody>\n",
       "    <tr>\n",
       "      <th>0</th>\n",
       "      <td>2023-01-01</td>\n",
       "      <td>13</td>\n",
       "    </tr>\n",
       "    <tr>\n",
       "      <th>1</th>\n",
       "      <td>2023-02-01</td>\n",
       "      <td>24</td>\n",
       "    </tr>\n",
       "    <tr>\n",
       "      <th>2</th>\n",
       "      <td>2023-03-01</td>\n",
       "      <td>24</td>\n",
       "    </tr>\n",
       "    <tr>\n",
       "      <th>3</th>\n",
       "      <td>2023-04-01</td>\n",
       "      <td>29</td>\n",
       "    </tr>\n",
       "    <tr>\n",
       "      <th>4</th>\n",
       "      <td>2023-05-01</td>\n",
       "      <td>22</td>\n",
       "    </tr>\n",
       "  </tbody>\n",
       "</table>\n",
       "</div>"
      ],
      "text/plain": [
       "      Период  Вакансия\n",
       "0 2023-01-01        13\n",
       "1 2023-02-01        24\n",
       "2 2023-03-01        24\n",
       "3 2023-04-01        29\n",
       "4 2023-05-01        22"
      ]
     },
     "execution_count": 26,
     "metadata": {},
     "output_type": "execute_result"
    }
   ],
   "source": [
    "employees.groupby(['Период'],as_index=False)\\\n",
    "    .agg({'Вакансия':'sum'})\\\n",
    "    .query('Вакансия >0')"
   ]
  },
  {
   "cell_type": "code",
   "execution_count": 27,
   "id": "5a6aa5ed",
   "metadata": {},
   "outputs": [
    {
     "data": {
      "text/html": [
       "<div>\n",
       "<style scoped>\n",
       "    .dataframe tbody tr th:only-of-type {\n",
       "        vertical-align: middle;\n",
       "    }\n",
       "\n",
       "    .dataframe tbody tr th {\n",
       "        vertical-align: top;\n",
       "    }\n",
       "\n",
       "    .dataframe thead th {\n",
       "        text-align: right;\n",
       "    }\n",
       "</style>\n",
       "<table border=\"1\" class=\"dataframe\">\n",
       "  <thead>\n",
       "    <tr style=\"text-align: right;\">\n",
       "      <th></th>\n",
       "      <th>Период</th>\n",
       "      <th>Должность</th>\n",
       "      <th>Вакансия</th>\n",
       "    </tr>\n",
       "  </thead>\n",
       "  <tbody>\n",
       "    <tr>\n",
       "      <th>4</th>\n",
       "      <td>2023-01-01</td>\n",
       "      <td>главный менеджер по привлечению корпоративных ...</td>\n",
       "      <td>1</td>\n",
       "    </tr>\n",
       "    <tr>\n",
       "      <th>7</th>\n",
       "      <td>2023-01-01</td>\n",
       "      <td>главный персональный менеджер</td>\n",
       "      <td>1</td>\n",
       "    </tr>\n",
       "    <tr>\n",
       "      <th>11</th>\n",
       "      <td>2023-01-01</td>\n",
       "      <td>директор по работе с состоятельными клиентами</td>\n",
       "      <td>1</td>\n",
       "    </tr>\n",
       "    <tr>\n",
       "      <th>12</th>\n",
       "      <td>2023-01-01</td>\n",
       "      <td>заместитель управляющего</td>\n",
       "      <td>1</td>\n",
       "    </tr>\n",
       "    <tr>\n",
       "      <th>15</th>\n",
       "      <td>2023-01-01</td>\n",
       "      <td>менеджер</td>\n",
       "      <td>1</td>\n",
       "    </tr>\n",
       "    <tr>\n",
       "      <th>16</th>\n",
       "      <td>2023-01-01</td>\n",
       "      <td>младший специалист</td>\n",
       "      <td>1</td>\n",
       "    </tr>\n",
       "    <tr>\n",
       "      <th>17</th>\n",
       "      <td>2023-01-01</td>\n",
       "      <td>начальник отдела</td>\n",
       "      <td>1</td>\n",
       "    </tr>\n",
       "    <tr>\n",
       "      <th>20</th>\n",
       "      <td>2023-01-01</td>\n",
       "      <td>старший кассир</td>\n",
       "      <td>1</td>\n",
       "    </tr>\n",
       "    <tr>\n",
       "      <th>22</th>\n",
       "      <td>2023-01-01</td>\n",
       "      <td>управляющий директор</td>\n",
       "      <td>1</td>\n",
       "    </tr>\n",
       "    <tr>\n",
       "      <th>23</th>\n",
       "      <td>2023-01-01</td>\n",
       "      <td>управляющий директор - начальник отдела</td>\n",
       "      <td>3</td>\n",
       "    </tr>\n",
       "  </tbody>\n",
       "</table>\n",
       "</div>"
      ],
      "text/plain": [
       "       Период                                          Должность  Вакансия\n",
       "4  2023-01-01  главный менеджер по привлечению корпоративных ...         1\n",
       "7  2023-01-01                      главный персональный менеджер         1\n",
       "11 2023-01-01      директор по работе с состоятельными клиентами         1\n",
       "12 2023-01-01                           заместитель управляющего         1\n",
       "15 2023-01-01                                           менеджер         1\n",
       "16 2023-01-01                                 младший специалист         1\n",
       "17 2023-01-01                                   начальник отдела         1\n",
       "20 2023-01-01                                     старший кассир         1\n",
       "22 2023-01-01                               управляющий директор         1\n",
       "23 2023-01-01            управляющий директор - начальник отдела         3"
      ]
     },
     "execution_count": 27,
     "metadata": {},
     "output_type": "execute_result"
    }
   ],
   "source": [
    "# Более детализованный вариант\n",
    "employees.groupby(['Период','Должность'],as_index=False)\\\n",
    "    .agg({'Вакансия':'sum'})\\\n",
    "    .query('Вакансия >0').head(10)"
   ]
  },
  {
   "cell_type": "markdown",
   "id": "feec63fa",
   "metadata": {},
   "source": [
    "- 2.3 Для подсчета Доля свободных должностей необходимо разделить кол-во Вакансий на кол-во всех должностей:"
   ]
  },
  {
   "cell_type": "code",
   "execution_count": 28,
   "id": "f58146de",
   "metadata": {},
   "outputs": [
    {
     "data": {
      "text/html": [
       "<div>\n",
       "<style scoped>\n",
       "    .dataframe tbody tr th:only-of-type {\n",
       "        vertical-align: middle;\n",
       "    }\n",
       "\n",
       "    .dataframe tbody tr th {\n",
       "        vertical-align: top;\n",
       "    }\n",
       "\n",
       "    .dataframe thead th {\n",
       "        text-align: right;\n",
       "    }\n",
       "</style>\n",
       "<table border=\"1\" class=\"dataframe\">\n",
       "  <thead>\n",
       "    <tr style=\"text-align: right;\">\n",
       "      <th></th>\n",
       "      <th>Период</th>\n",
       "      <th>Табельный номер</th>\n",
       "      <th>Вакансия</th>\n",
       "    </tr>\n",
       "  </thead>\n",
       "  <tbody>\n",
       "    <tr>\n",
       "      <th>3</th>\n",
       "      <td>2023-04-01</td>\n",
       "      <td>970</td>\n",
       "      <td>29</td>\n",
       "    </tr>\n",
       "    <tr>\n",
       "      <th>1</th>\n",
       "      <td>2023-02-01</td>\n",
       "      <td>975</td>\n",
       "      <td>24</td>\n",
       "    </tr>\n",
       "    <tr>\n",
       "      <th>2</th>\n",
       "      <td>2023-03-01</td>\n",
       "      <td>975</td>\n",
       "      <td>24</td>\n",
       "    </tr>\n",
       "    <tr>\n",
       "      <th>4</th>\n",
       "      <td>2023-05-01</td>\n",
       "      <td>977</td>\n",
       "      <td>22</td>\n",
       "    </tr>\n",
       "    <tr>\n",
       "      <th>0</th>\n",
       "      <td>2023-01-01</td>\n",
       "      <td>986</td>\n",
       "      <td>13</td>\n",
       "    </tr>\n",
       "  </tbody>\n",
       "</table>\n",
       "</div>"
      ],
      "text/plain": [
       "      Период  Табельный номер  Вакансия\n",
       "3 2023-04-01              970        29\n",
       "1 2023-02-01              975        24\n",
       "2 2023-03-01              975        24\n",
       "4 2023-05-01              977        22\n",
       "0 2023-01-01              986        13"
      ]
     },
     "execution_count": 28,
     "metadata": {},
     "output_type": "execute_result"
    }
   ],
   "source": [
    "employees_group = employees.groupby(['Период'],as_index=False)\\\n",
    "    .agg({'Табельный номер':'nunique','Вакансия':'sum'})\\\n",
    "    .sort_values('Вакансия',ascending=False)\n",
    "employees_group.head()"
   ]
  },
  {
   "cell_type": "code",
   "execution_count": 29,
   "id": "548e6664",
   "metadata": {},
   "outputs": [],
   "source": [
    "employees_group['Доля свободных должностей'] = round(employees_group['Вакансия'] / (employees_group['Вакансия']+employees_group['Табельный номер']) * 100,2)"
   ]
  },
  {
   "cell_type": "code",
   "execution_count": 30,
   "id": "65375355",
   "metadata": {},
   "outputs": [
    {
     "data": {
      "text/html": [
       "<div>\n",
       "<style scoped>\n",
       "    .dataframe tbody tr th:only-of-type {\n",
       "        vertical-align: middle;\n",
       "    }\n",
       "\n",
       "    .dataframe tbody tr th {\n",
       "        vertical-align: top;\n",
       "    }\n",
       "\n",
       "    .dataframe thead th {\n",
       "        text-align: right;\n",
       "    }\n",
       "</style>\n",
       "<table border=\"1\" class=\"dataframe\">\n",
       "  <thead>\n",
       "    <tr style=\"text-align: right;\">\n",
       "      <th></th>\n",
       "      <th>Период</th>\n",
       "      <th>Табельный номер</th>\n",
       "      <th>Вакансия</th>\n",
       "      <th>Доля свободных должностей</th>\n",
       "    </tr>\n",
       "  </thead>\n",
       "  <tbody>\n",
       "    <tr>\n",
       "      <th>3</th>\n",
       "      <td>2023-04-01</td>\n",
       "      <td>970</td>\n",
       "      <td>29</td>\n",
       "      <td>2.9</td>\n",
       "    </tr>\n",
       "    <tr>\n",
       "      <th>1</th>\n",
       "      <td>2023-02-01</td>\n",
       "      <td>975</td>\n",
       "      <td>24</td>\n",
       "      <td>2.4</td>\n",
       "    </tr>\n",
       "    <tr>\n",
       "      <th>2</th>\n",
       "      <td>2023-03-01</td>\n",
       "      <td>975</td>\n",
       "      <td>24</td>\n",
       "      <td>2.4</td>\n",
       "    </tr>\n",
       "    <tr>\n",
       "      <th>4</th>\n",
       "      <td>2023-05-01</td>\n",
       "      <td>977</td>\n",
       "      <td>22</td>\n",
       "      <td>2.2</td>\n",
       "    </tr>\n",
       "    <tr>\n",
       "      <th>0</th>\n",
       "      <td>2023-01-01</td>\n",
       "      <td>986</td>\n",
       "      <td>13</td>\n",
       "      <td>1.3</td>\n",
       "    </tr>\n",
       "  </tbody>\n",
       "</table>\n",
       "</div>"
      ],
      "text/plain": [
       "      Период  Табельный номер  Вакансия  Доля свободных должностей\n",
       "3 2023-04-01              970        29                        2.9\n",
       "1 2023-02-01              975        24                        2.4\n",
       "2 2023-03-01              975        24                        2.4\n",
       "4 2023-05-01              977        22                        2.2\n",
       "0 2023-01-01              986        13                        1.3"
      ]
     },
     "execution_count": 30,
     "metadata": {},
     "output_type": "execute_result"
    }
   ],
   "source": [
    "employees_group.head()"
   ]
  },
  {
   "cell_type": "markdown",
   "id": "0b2e1468",
   "metadata": {},
   "source": [
    "# 3. Соединение таблиц"
   ]
  },
  {
   "cell_type": "markdown",
   "id": "05be0410",
   "metadata": {},
   "source": [
    "- 3.1 Смерджим данные из двух датасетов с помощью left джоина:"
   ]
  },
  {
   "cell_type": "code",
   "execution_count": 31,
   "id": "680baac7",
   "metadata": {},
   "outputs": [],
   "source": [
    "employees_complete = employees.merge(cities, on='Город',how='left')"
   ]
  },
  {
   "cell_type": "code",
   "execution_count": 32,
   "id": "0e656c3b",
   "metadata": {},
   "outputs": [
    {
     "data": {
      "text/html": [
       "<div>\n",
       "<style scoped>\n",
       "    .dataframe tbody tr th:only-of-type {\n",
       "        vertical-align: middle;\n",
       "    }\n",
       "\n",
       "    .dataframe tbody tr th {\n",
       "        vertical-align: top;\n",
       "    }\n",
       "\n",
       "    .dataframe thead th {\n",
       "        text-align: right;\n",
       "    }\n",
       "</style>\n",
       "<table border=\"1\" class=\"dataframe\">\n",
       "  <thead>\n",
       "    <tr style=\"text-align: right;\">\n",
       "      <th></th>\n",
       "      <th>Период</th>\n",
       "      <th>ID должности</th>\n",
       "      <th>Табельный номер</th>\n",
       "      <th>ФИО</th>\n",
       "      <th>Должность</th>\n",
       "      <th>Город</th>\n",
       "      <th>Вакансия</th>\n",
       "    </tr>\n",
       "  </thead>\n",
       "  <tbody>\n",
       "    <tr>\n",
       "      <th>0</th>\n",
       "      <td>2023-01-01</td>\n",
       "      <td>1000</td>\n",
       "      <td>2201.0</td>\n",
       "      <td>Корнеев З.</td>\n",
       "      <td>главный клиентский менеджер розничного бизнеса</td>\n",
       "      <td>Новоуральск</td>\n",
       "      <td>False</td>\n",
       "    </tr>\n",
       "    <tr>\n",
       "      <th>1</th>\n",
       "      <td>2023-01-01</td>\n",
       "      <td>1001</td>\n",
       "      <td>2202.0</td>\n",
       "      <td>Сергеев Е.</td>\n",
       "      <td>управляющий операционным офисом</td>\n",
       "      <td>Оленегорск</td>\n",
       "      <td>False</td>\n",
       "    </tr>\n",
       "    <tr>\n",
       "      <th>2</th>\n",
       "      <td>2023-01-01</td>\n",
       "      <td>1002</td>\n",
       "      <td>2203.0</td>\n",
       "      <td>Корнеев Д.</td>\n",
       "      <td>руководитель группы</td>\n",
       "      <td>Североуральск</td>\n",
       "      <td>False</td>\n",
       "    </tr>\n",
       "    <tr>\n",
       "      <th>3</th>\n",
       "      <td>2023-01-01</td>\n",
       "      <td>1003</td>\n",
       "      <td>2204.0</td>\n",
       "      <td>Петров Н.</td>\n",
       "      <td>офис-менеджер</td>\n",
       "      <td>Жуковка</td>\n",
       "      <td>False</td>\n",
       "    </tr>\n",
       "    <tr>\n",
       "      <th>4</th>\n",
       "      <td>2023-01-01</td>\n",
       "      <td>1004</td>\n",
       "      <td>2205.0</td>\n",
       "      <td>Корнеев Я.</td>\n",
       "      <td>эксперт по работе с партнерами</td>\n",
       "      <td>Воркута</td>\n",
       "      <td>False</td>\n",
       "    </tr>\n",
       "    <tr>\n",
       "      <th>...</th>\n",
       "      <td>...</td>\n",
       "      <td>...</td>\n",
       "      <td>...</td>\n",
       "      <td>...</td>\n",
       "      <td>...</td>\n",
       "      <td>...</td>\n",
       "      <td>...</td>\n",
       "    </tr>\n",
       "    <tr>\n",
       "      <th>4996</th>\n",
       "      <td>2023-05-01</td>\n",
       "      <td>1994</td>\n",
       "      <td>3195.0</td>\n",
       "      <td>Корнеев В.</td>\n",
       "      <td>заместитель управляющего операционным офисом</td>\n",
       "      <td>Канаш</td>\n",
       "      <td>False</td>\n",
       "    </tr>\n",
       "    <tr>\n",
       "      <th>4997</th>\n",
       "      <td>2023-05-01</td>\n",
       "      <td>1995</td>\n",
       "      <td>3196.0</td>\n",
       "      <td>Иванов Г.</td>\n",
       "      <td>главный кредитный аналитик</td>\n",
       "      <td>Туймазы</td>\n",
       "      <td>False</td>\n",
       "    </tr>\n",
       "    <tr>\n",
       "      <th>4998</th>\n",
       "      <td>2023-05-01</td>\n",
       "      <td>1996</td>\n",
       "      <td>3197.0</td>\n",
       "      <td>Бобров О.</td>\n",
       "      <td>управляющий директор</td>\n",
       "      <td>Пыть-Ях</td>\n",
       "      <td>False</td>\n",
       "    </tr>\n",
       "    <tr>\n",
       "      <th>4999</th>\n",
       "      <td>2023-05-01</td>\n",
       "      <td>1997</td>\n",
       "      <td>3198.0</td>\n",
       "      <td>Иванов Ж.</td>\n",
       "      <td>директор по работе с состоятельными клиентами</td>\n",
       "      <td>Благовещенск</td>\n",
       "      <td>False</td>\n",
       "    </tr>\n",
       "    <tr>\n",
       "      <th>5000</th>\n",
       "      <td>2023-05-01</td>\n",
       "      <td>1998</td>\n",
       "      <td>3199.0</td>\n",
       "      <td>Селезнев З.</td>\n",
       "      <td>руководитель группы</td>\n",
       "      <td>Белгород</td>\n",
       "      <td>False</td>\n",
       "    </tr>\n",
       "  </tbody>\n",
       "</table>\n",
       "<p>4995 rows × 7 columns</p>\n",
       "</div>"
      ],
      "text/plain": [
       "         Период  ID должности  Табельный номер          ФИО  \\\n",
       "0    2023-01-01          1000           2201.0   Корнеев З.   \n",
       "1    2023-01-01          1001           2202.0   Сергеев Е.   \n",
       "2    2023-01-01          1002           2203.0   Корнеев Д.   \n",
       "3    2023-01-01          1003           2204.0    Петров Н.   \n",
       "4    2023-01-01          1004           2205.0   Корнеев Я.   \n",
       "...         ...           ...              ...          ...   \n",
       "4996 2023-05-01          1994           3195.0   Корнеев В.   \n",
       "4997 2023-05-01          1995           3196.0    Иванов Г.   \n",
       "4998 2023-05-01          1996           3197.0    Бобров О.   \n",
       "4999 2023-05-01          1997           3198.0    Иванов Ж.   \n",
       "5000 2023-05-01          1998           3199.0  Селезнев З.   \n",
       "\n",
       "                                           Должность          Город  Вакансия  \n",
       "0     главный клиентский менеджер розничного бизнеса    Новоуральск     False  \n",
       "1                    управляющий операционным офисом     Оленегорск     False  \n",
       "2                                руководитель группы  Североуральск     False  \n",
       "3                                      офис-менеджер        Жуковка     False  \n",
       "4                     эксперт по работе с партнерами        Воркута     False  \n",
       "...                                              ...            ...       ...  \n",
       "4996    заместитель управляющего операционным офисом          Канаш     False  \n",
       "4997                      главный кредитный аналитик        Туймазы     False  \n",
       "4998                            управляющий директор        Пыть-Ях     False  \n",
       "4999   директор по работе с состоятельными клиентами   Благовещенск     False  \n",
       "5000                             руководитель группы       Белгород     False  \n",
       "\n",
       "[4995 rows x 7 columns]"
      ]
     },
     "execution_count": 32,
     "metadata": {},
     "output_type": "execute_result"
    }
   ],
   "source": [
    "employees"
   ]
  },
  {
   "cell_type": "code",
   "execution_count": 33,
   "id": "ec50f670",
   "metadata": {},
   "outputs": [
    {
     "data": {
      "text/html": [
       "<div>\n",
       "<style scoped>\n",
       "    .dataframe tbody tr th:only-of-type {\n",
       "        vertical-align: middle;\n",
       "    }\n",
       "\n",
       "    .dataframe tbody tr th {\n",
       "        vertical-align: top;\n",
       "    }\n",
       "\n",
       "    .dataframe thead th {\n",
       "        text-align: right;\n",
       "    }\n",
       "</style>\n",
       "<table border=\"1\" class=\"dataframe\">\n",
       "  <thead>\n",
       "    <tr style=\"text-align: right;\">\n",
       "      <th></th>\n",
       "      <th>Период</th>\n",
       "      <th>ID должности</th>\n",
       "      <th>Табельный номер</th>\n",
       "      <th>ФИО</th>\n",
       "      <th>Должность</th>\n",
       "      <th>Город</th>\n",
       "      <th>Вакансия</th>\n",
       "      <th>Федеральный округ</th>\n",
       "      <th>Регион</th>\n",
       "    </tr>\n",
       "  </thead>\n",
       "  <tbody>\n",
       "    <tr>\n",
       "      <th>0</th>\n",
       "      <td>2023-01-01</td>\n",
       "      <td>1000</td>\n",
       "      <td>2201.0</td>\n",
       "      <td>Корнеев З.</td>\n",
       "      <td>главный клиентский менеджер розничного бизнеса</td>\n",
       "      <td>Новоуральск</td>\n",
       "      <td>False</td>\n",
       "      <td>УФО</td>\n",
       "      <td>Свердловская обл.</td>\n",
       "    </tr>\n",
       "    <tr>\n",
       "      <th>1</th>\n",
       "      <td>2023-01-01</td>\n",
       "      <td>1001</td>\n",
       "      <td>2202.0</td>\n",
       "      <td>Сергеев Е.</td>\n",
       "      <td>управляющий операционным офисом</td>\n",
       "      <td>Оленегорск</td>\n",
       "      <td>False</td>\n",
       "      <td>СЗФО</td>\n",
       "      <td>Мурманская обл.</td>\n",
       "    </tr>\n",
       "    <tr>\n",
       "      <th>2</th>\n",
       "      <td>2023-01-01</td>\n",
       "      <td>1002</td>\n",
       "      <td>2203.0</td>\n",
       "      <td>Корнеев Д.</td>\n",
       "      <td>руководитель группы</td>\n",
       "      <td>Североуральск</td>\n",
       "      <td>False</td>\n",
       "      <td>УФО</td>\n",
       "      <td>Свердловская обл.</td>\n",
       "    </tr>\n",
       "    <tr>\n",
       "      <th>3</th>\n",
       "      <td>2023-01-01</td>\n",
       "      <td>1003</td>\n",
       "      <td>2204.0</td>\n",
       "      <td>Петров Н.</td>\n",
       "      <td>офис-менеджер</td>\n",
       "      <td>Жуковка</td>\n",
       "      <td>False</td>\n",
       "      <td>ЦФО</td>\n",
       "      <td>Московская обл.</td>\n",
       "    </tr>\n",
       "    <tr>\n",
       "      <th>4</th>\n",
       "      <td>2023-01-01</td>\n",
       "      <td>1004</td>\n",
       "      <td>2205.0</td>\n",
       "      <td>Корнеев Я.</td>\n",
       "      <td>эксперт по работе с партнерами</td>\n",
       "      <td>Воркута</td>\n",
       "      <td>False</td>\n",
       "      <td>СЗФО</td>\n",
       "      <td>Респ. Коми</td>\n",
       "    </tr>\n",
       "  </tbody>\n",
       "</table>\n",
       "</div>"
      ],
      "text/plain": [
       "      Период  ID должности  Табельный номер         ФИО  \\\n",
       "0 2023-01-01          1000           2201.0  Корнеев З.   \n",
       "1 2023-01-01          1001           2202.0  Сергеев Е.   \n",
       "2 2023-01-01          1002           2203.0  Корнеев Д.   \n",
       "3 2023-01-01          1003           2204.0   Петров Н.   \n",
       "4 2023-01-01          1004           2205.0  Корнеев Я.   \n",
       "\n",
       "                                        Должность          Город  Вакансия  \\\n",
       "0  главный клиентский менеджер розничного бизнеса    Новоуральск     False   \n",
       "1                 управляющий операционным офисом     Оленегорск     False   \n",
       "2                             руководитель группы  Североуральск     False   \n",
       "3                                   офис-менеджер        Жуковка     False   \n",
       "4                  эксперт по работе с партнерами        Воркута     False   \n",
       "\n",
       "  Федеральный округ             Регион  \n",
       "0               УФО  Свердловская обл.  \n",
       "1              СЗФО    Мурманская обл.  \n",
       "2               УФО  Свердловская обл.  \n",
       "3               ЦФО    Московская обл.  \n",
       "4              СЗФО         Респ. Коми  "
      ]
     },
     "execution_count": 33,
     "metadata": {},
     "output_type": "execute_result"
    }
   ],
   "source": [
    "employees_complete.head()"
   ]
  },
  {
   "cell_type": "code",
   "execution_count": 34,
   "id": "061f21d1",
   "metadata": {},
   "outputs": [
    {
     "data": {
      "text/plain": [
       "(4995, 9)"
      ]
     },
     "execution_count": 34,
     "metadata": {},
     "output_type": "execute_result"
    }
   ],
   "source": [
    "employees_complete.shape"
   ]
  },
  {
   "cell_type": "markdown",
   "id": "e6dd61d4",
   "metadata": {},
   "source": [
    "- 3.2 Чтобы найти количество месяцев поиска сотрудника на должность, необходимо отсортировать только строки с открытой Вакансией и сгруппировать должности, сложив месяцы (возможно здесь может быть ошибка, если к примеру, в январе,феврале не было сотрудника, в марте он проработал и уволился, а в апреле снова открыта вакансия):"
   ]
  },
  {
   "cell_type": "code",
   "execution_count": 35,
   "id": "bb5429f4",
   "metadata": {},
   "outputs": [
    {
     "data": {
      "text/html": [
       "<div>\n",
       "<style scoped>\n",
       "    .dataframe tbody tr th:only-of-type {\n",
       "        vertical-align: middle;\n",
       "    }\n",
       "\n",
       "    .dataframe tbody tr th {\n",
       "        vertical-align: top;\n",
       "    }\n",
       "\n",
       "    .dataframe thead th {\n",
       "        text-align: right;\n",
       "    }\n",
       "</style>\n",
       "<table border=\"1\" class=\"dataframe\">\n",
       "  <thead>\n",
       "    <tr style=\"text-align: right;\">\n",
       "      <th></th>\n",
       "      <th>ID должности</th>\n",
       "      <th>Должность</th>\n",
       "      <th>Период</th>\n",
       "    </tr>\n",
       "  </thead>\n",
       "  <tbody>\n",
       "    <tr>\n",
       "      <th>0</th>\n",
       "      <td>1070</td>\n",
       "      <td>менеджер</td>\n",
       "      <td>4</td>\n",
       "    </tr>\n",
       "    <tr>\n",
       "      <th>1</th>\n",
       "      <td>1099</td>\n",
       "      <td>начальник отдела</td>\n",
       "      <td>4</td>\n",
       "    </tr>\n",
       "    <tr>\n",
       "      <th>2</th>\n",
       "      <td>1104</td>\n",
       "      <td>младший специалист</td>\n",
       "      <td>4</td>\n",
       "    </tr>\n",
       "    <tr>\n",
       "      <th>3</th>\n",
       "      <td>1118</td>\n",
       "      <td>управляющий директор</td>\n",
       "      <td>4</td>\n",
       "    </tr>\n",
       "    <tr>\n",
       "      <th>4</th>\n",
       "      <td>1145</td>\n",
       "      <td>управляющий директор - начальник отдела</td>\n",
       "      <td>2</td>\n",
       "    </tr>\n",
       "    <tr>\n",
       "      <th>5</th>\n",
       "      <td>1166</td>\n",
       "      <td>главный персональный менеджер</td>\n",
       "      <td>2</td>\n",
       "    </tr>\n",
       "    <tr>\n",
       "      <th>6</th>\n",
       "      <td>1184</td>\n",
       "      <td>управляющий директор - начальник отдела</td>\n",
       "      <td>2</td>\n",
       "    </tr>\n",
       "    <tr>\n",
       "      <th>7</th>\n",
       "      <td>1209</td>\n",
       "      <td>директор по работе с состоятельными клиентами</td>\n",
       "      <td>2</td>\n",
       "    </tr>\n",
       "    <tr>\n",
       "      <th>8</th>\n",
       "      <td>1246</td>\n",
       "      <td>главный менеджер по привлечению корпоративных ...</td>\n",
       "      <td>4</td>\n",
       "    </tr>\n",
       "    <tr>\n",
       "      <th>9</th>\n",
       "      <td>1280</td>\n",
       "      <td>заместитель управляющего</td>\n",
       "      <td>4</td>\n",
       "    </tr>\n",
       "  </tbody>\n",
       "</table>\n",
       "</div>"
      ],
      "text/plain": [
       "   ID должности                                          Должность  Период\n",
       "0          1070                                           менеджер       4\n",
       "1          1099                                   начальник отдела       4\n",
       "2          1104                                 младший специалист       4\n",
       "3          1118                               управляющий директор       4\n",
       "4          1145            управляющий директор - начальник отдела       2\n",
       "5          1166                      главный персональный менеджер       2\n",
       "6          1184            управляющий директор - начальник отдела       2\n",
       "7          1209      директор по работе с состоятельными клиентами       2\n",
       "8          1246  главный менеджер по привлечению корпоративных ...       4\n",
       "9          1280                           заместитель управляющего       4"
      ]
     },
     "execution_count": 35,
     "metadata": {},
     "output_type": "execute_result"
    }
   ],
   "source": [
    "employees_complete.query('Вакансия == True')\\\n",
    "    .groupby(['ID должности','Должность'],as_index=False)\\\n",
    "    .agg({'Период':'count'}).head(10)"
   ]
  },
  {
   "cell_type": "markdown",
   "id": "bf7d21b6",
   "metadata": {},
   "source": [
    "# 4 Кадровый анализ"
   ]
  },
  {
   "cell_type": "markdown",
   "id": "e0c5a473",
   "metadata": {},
   "source": [
    "- 4.1. Найдем города, в которых больше всего наблюдается нехватка кадров в последний месяц:"
   ]
  },
  {
   "cell_type": "code",
   "execution_count": 36,
   "id": "40c5bb37",
   "metadata": {},
   "outputs": [
    {
     "data": {
      "text/plain": [
       "Timestamp('2023-05-01 00:00:00')"
      ]
     },
     "execution_count": 36,
     "metadata": {},
     "output_type": "execute_result"
    }
   ],
   "source": [
    "employees_complete['Период'].max()"
   ]
  },
  {
   "cell_type": "code",
   "execution_count": 37,
   "id": "c8c5a8a6",
   "metadata": {},
   "outputs": [
    {
     "data": {
      "text/html": [
       "<div>\n",
       "<style scoped>\n",
       "    .dataframe tbody tr th:only-of-type {\n",
       "        vertical-align: middle;\n",
       "    }\n",
       "\n",
       "    .dataframe tbody tr th {\n",
       "        vertical-align: top;\n",
       "    }\n",
       "\n",
       "    .dataframe thead th {\n",
       "        text-align: right;\n",
       "    }\n",
       "</style>\n",
       "<table border=\"1\" class=\"dataframe\">\n",
       "  <thead>\n",
       "    <tr style=\"text-align: right;\">\n",
       "      <th></th>\n",
       "      <th>Город</th>\n",
       "      <th>Должность</th>\n",
       "    </tr>\n",
       "  </thead>\n",
       "  <tbody>\n",
       "    <tr>\n",
       "      <th>2</th>\n",
       "      <td>Биробиджан</td>\n",
       "      <td>2</td>\n",
       "    </tr>\n",
       "    <tr>\n",
       "      <th>4</th>\n",
       "      <td>Городец</td>\n",
       "      <td>2</td>\n",
       "    </tr>\n",
       "    <tr>\n",
       "      <th>0</th>\n",
       "      <td>Анжеро-Судженск</td>\n",
       "      <td>1</td>\n",
       "    </tr>\n",
       "    <tr>\n",
       "      <th>11</th>\n",
       "      <td>Лобня</td>\n",
       "      <td>1</td>\n",
       "    </tr>\n",
       "    <tr>\n",
       "      <th>18</th>\n",
       "      <td>Сосновый Бор</td>\n",
       "      <td>1</td>\n",
       "    </tr>\n",
       "    <tr>\n",
       "      <th>17</th>\n",
       "      <td>Советский</td>\n",
       "      <td>1</td>\n",
       "    </tr>\n",
       "    <tr>\n",
       "      <th>16</th>\n",
       "      <td>Новый Уренгой</td>\n",
       "      <td>1</td>\n",
       "    </tr>\n",
       "    <tr>\n",
       "      <th>15</th>\n",
       "      <td>Нововоронеж</td>\n",
       "      <td>1</td>\n",
       "    </tr>\n",
       "    <tr>\n",
       "      <th>14</th>\n",
       "      <td>Нижний Новгород</td>\n",
       "      <td>1</td>\n",
       "    </tr>\n",
       "    <tr>\n",
       "      <th>13</th>\n",
       "      <td>Миасс</td>\n",
       "      <td>1</td>\n",
       "    </tr>\n",
       "  </tbody>\n",
       "</table>\n",
       "</div>"
      ],
      "text/plain": [
       "              Город  Должность\n",
       "2        Биробиджан          2\n",
       "4           Городец          2\n",
       "0   Анжеро-Судженск          1\n",
       "11            Лобня          1\n",
       "18     Сосновый Бор          1\n",
       "17        Советский          1\n",
       "16    Новый Уренгой          1\n",
       "15      Нововоронеж          1\n",
       "14  Нижний Новгород          1\n",
       "13            Миасс          1"
      ]
     },
     "execution_count": 37,
     "metadata": {},
     "output_type": "execute_result"
    }
   ],
   "source": [
    "employees_complete.query('Период == \"2023-05-01\" and Вакансия == True')\\\n",
    "    .groupby('Город',as_index=False)\\\n",
    "    .agg({'Должность':'count'})\\\n",
    "    .sort_values('Должность',ascending=False).head(10)"
   ]
  },
  {
   "cell_type": "markdown",
   "id": "b16487a5",
   "metadata": {},
   "source": [
    "- 4.2. Найдем регионы, в которых больше всего работает сотрудников в последний месяц:"
   ]
  },
  {
   "cell_type": "code",
   "execution_count": 38,
   "id": "99396685",
   "metadata": {},
   "outputs": [
    {
     "data": {
      "text/html": [
       "<div>\n",
       "<style scoped>\n",
       "    .dataframe tbody tr th:only-of-type {\n",
       "        vertical-align: middle;\n",
       "    }\n",
       "\n",
       "    .dataframe tbody tr th {\n",
       "        vertical-align: top;\n",
       "    }\n",
       "\n",
       "    .dataframe thead th {\n",
       "        text-align: right;\n",
       "    }\n",
       "</style>\n",
       "<table border=\"1\" class=\"dataframe\">\n",
       "  <thead>\n",
       "    <tr style=\"text-align: right;\">\n",
       "      <th></th>\n",
       "      <th>Регион</th>\n",
       "      <th>Должность</th>\n",
       "    </tr>\n",
       "  </thead>\n",
       "  <tbody>\n",
       "    <tr>\n",
       "      <th>24</th>\n",
       "      <td>Московская обл.</td>\n",
       "      <td>56</td>\n",
       "    </tr>\n",
       "    <tr>\n",
       "      <th>54</th>\n",
       "      <td>Свердловская обл.</td>\n",
       "      <td>50</td>\n",
       "    </tr>\n",
       "    <tr>\n",
       "      <th>60</th>\n",
       "      <td>Ханты-Мансийский Автономный округ - Югра</td>\n",
       "      <td>36</td>\n",
       "    </tr>\n",
       "    <tr>\n",
       "      <th>27</th>\n",
       "      <td>Нижегородская обл.</td>\n",
       "      <td>34</td>\n",
       "    </tr>\n",
       "    <tr>\n",
       "      <th>25</th>\n",
       "      <td>Мурманская обл.</td>\n",
       "      <td>33</td>\n",
       "    </tr>\n",
       "    <tr>\n",
       "      <th>52</th>\n",
       "      <td>Саратовская обл.</td>\n",
       "      <td>30</td>\n",
       "    </tr>\n",
       "    <tr>\n",
       "      <th>21</th>\n",
       "      <td>Ленинградская обл.</td>\n",
       "      <td>30</td>\n",
       "    </tr>\n",
       "    <tr>\n",
       "      <th>15</th>\n",
       "      <td>Кемеровская область - Кузбасс</td>\n",
       "      <td>29</td>\n",
       "    </tr>\n",
       "    <tr>\n",
       "      <th>47</th>\n",
       "      <td>Респ. Татарстан</td>\n",
       "      <td>28</td>\n",
       "    </tr>\n",
       "    <tr>\n",
       "      <th>11</th>\n",
       "      <td>Иркутская обл.</td>\n",
       "      <td>28</td>\n",
       "    </tr>\n",
       "  </tbody>\n",
       "</table>\n",
       "</div>"
      ],
      "text/plain": [
       "                                      Регион  Должность\n",
       "24                           Московская обл.         56\n",
       "54                         Свердловская обл.         50\n",
       "60  Ханты-Мансийский Автономный округ - Югра         36\n",
       "27                        Нижегородская обл.         34\n",
       "25                           Мурманская обл.         33\n",
       "52                          Саратовская обл.         30\n",
       "21                        Ленинградская обл.         30\n",
       "15             Кемеровская область - Кузбасс         29\n",
       "47                           Респ. Татарстан         28\n",
       "11                            Иркутская обл.         28"
      ]
     },
     "execution_count": 38,
     "metadata": {},
     "output_type": "execute_result"
    }
   ],
   "source": [
    "employees_complete.query('Период == \"2023-05-01\" and Вакансия == False')\\\n",
    "    .groupby('Регион',as_index=False)\\\n",
    "    .agg({'Должность':'count'})\\\n",
    "    .sort_values('Должность',ascending=False).head(10)"
   ]
  },
  {
   "cell_type": "markdown",
   "id": "20a1052f",
   "metadata": {},
   "source": [
    "- 4.3 Выведем должности, которые подвержены наибольшей текучести по коэффициенту:"
   ]
  },
  {
   "cell_type": "code",
   "execution_count": 39,
   "id": "25067428",
   "metadata": {},
   "outputs": [
    {
     "data": {
      "text/html": [
       "<div>\n",
       "<style scoped>\n",
       "    .dataframe tbody tr th:only-of-type {\n",
       "        vertical-align: middle;\n",
       "    }\n",
       "\n",
       "    .dataframe tbody tr th {\n",
       "        vertical-align: top;\n",
       "    }\n",
       "\n",
       "    .dataframe thead th {\n",
       "        text-align: right;\n",
       "    }\n",
       "</style>\n",
       "<table border=\"1\" class=\"dataframe\">\n",
       "  <thead>\n",
       "    <tr style=\"text-align: right;\">\n",
       "      <th></th>\n",
       "      <th>Должность</th>\n",
       "      <th>Период</th>\n",
       "      <th>Табельный номер</th>\n",
       "      <th>Вакансия</th>\n",
       "    </tr>\n",
       "  </thead>\n",
       "  <tbody>\n",
       "    <tr>\n",
       "      <th>123</th>\n",
       "      <td>управляющий операционным офисом</td>\n",
       "      <td>2023-04-01</td>\n",
       "      <td>35</td>\n",
       "      <td>4</td>\n",
       "    </tr>\n",
       "    <tr>\n",
       "      <th>12</th>\n",
       "      <td>главный кредитный аналитик</td>\n",
       "      <td>2023-03-01</td>\n",
       "      <td>37</td>\n",
       "      <td>3</td>\n",
       "    </tr>\n",
       "    <tr>\n",
       "      <th>116</th>\n",
       "      <td>управляющий директор - начальник отдела</td>\n",
       "      <td>2023-02-01</td>\n",
       "      <td>43</td>\n",
       "      <td>3</td>\n",
       "    </tr>\n",
       "    <tr>\n",
       "      <th>124</th>\n",
       "      <td>управляющий операционным офисом</td>\n",
       "      <td>2023-05-01</td>\n",
       "      <td>36</td>\n",
       "      <td>3</td>\n",
       "    </tr>\n",
       "    <tr>\n",
       "      <th>14</th>\n",
       "      <td>главный кредитный аналитик</td>\n",
       "      <td>2023-05-01</td>\n",
       "      <td>37</td>\n",
       "      <td>3</td>\n",
       "    </tr>\n",
       "  </tbody>\n",
       "</table>\n",
       "</div>"
      ],
      "text/plain": [
       "                                   Должность     Период  Табельный номер  \\\n",
       "123          управляющий операционным офисом 2023-04-01               35   \n",
       "12                главный кредитный аналитик 2023-03-01               37   \n",
       "116  управляющий директор - начальник отдела 2023-02-01               43   \n",
       "124          управляющий операционным офисом 2023-05-01               36   \n",
       "14                главный кредитный аналитик 2023-05-01               37   \n",
       "\n",
       "     Вакансия  \n",
       "123         4  \n",
       "12          3  \n",
       "116         3  \n",
       "124         3  \n",
       "14          3  "
      ]
     },
     "execution_count": 39,
     "metadata": {},
     "output_type": "execute_result"
    }
   ],
   "source": [
    "employees_group2 = employees.groupby(['Должность','Период'],as_index=False)\\\n",
    "    .agg({'Табельный номер':'nunique','Вакансия':'sum'})\\\n",
    "    .sort_values('Вакансия',ascending=False)\n",
    "employees_group2.head()"
   ]
  },
  {
   "cell_type": "code",
   "execution_count": 40,
   "id": "37326427",
   "metadata": {},
   "outputs": [],
   "source": [
    "employees_group2['Доля свободных должностей'] = round(employees_group2['Вакансия'] / (employees_group2['Вакансия']+employees_group2['Табельный номер']) * 100,2)"
   ]
  },
  {
   "cell_type": "code",
   "execution_count": 41,
   "id": "a5958d4c",
   "metadata": {},
   "outputs": [
    {
     "data": {
      "text/html": [
       "<div>\n",
       "<style scoped>\n",
       "    .dataframe tbody tr th:only-of-type {\n",
       "        vertical-align: middle;\n",
       "    }\n",
       "\n",
       "    .dataframe tbody tr th {\n",
       "        vertical-align: top;\n",
       "    }\n",
       "\n",
       "    .dataframe thead th {\n",
       "        text-align: right;\n",
       "    }\n",
       "</style>\n",
       "<table border=\"1\" class=\"dataframe\">\n",
       "  <thead>\n",
       "    <tr style=\"text-align: right;\">\n",
       "      <th></th>\n",
       "      <th>Должность</th>\n",
       "      <th>Период</th>\n",
       "      <th>Табельный номер</th>\n",
       "      <th>Вакансия</th>\n",
       "      <th>Доля свободных должностей</th>\n",
       "    </tr>\n",
       "  </thead>\n",
       "  <tbody>\n",
       "    <tr>\n",
       "      <th>123</th>\n",
       "      <td>управляющий операционным офисом</td>\n",
       "      <td>2023-04-01</td>\n",
       "      <td>35</td>\n",
       "      <td>4</td>\n",
       "      <td>10.26</td>\n",
       "    </tr>\n",
       "    <tr>\n",
       "      <th>12</th>\n",
       "      <td>главный кредитный аналитик</td>\n",
       "      <td>2023-03-01</td>\n",
       "      <td>37</td>\n",
       "      <td>3</td>\n",
       "      <td>7.50</td>\n",
       "    </tr>\n",
       "    <tr>\n",
       "      <th>116</th>\n",
       "      <td>управляющий директор - начальник отдела</td>\n",
       "      <td>2023-02-01</td>\n",
       "      <td>43</td>\n",
       "      <td>3</td>\n",
       "      <td>6.52</td>\n",
       "    </tr>\n",
       "    <tr>\n",
       "      <th>124</th>\n",
       "      <td>управляющий операционным офисом</td>\n",
       "      <td>2023-05-01</td>\n",
       "      <td>36</td>\n",
       "      <td>3</td>\n",
       "      <td>7.69</td>\n",
       "    </tr>\n",
       "    <tr>\n",
       "      <th>14</th>\n",
       "      <td>главный кредитный аналитик</td>\n",
       "      <td>2023-05-01</td>\n",
       "      <td>37</td>\n",
       "      <td>3</td>\n",
       "      <td>7.50</td>\n",
       "    </tr>\n",
       "    <tr>\n",
       "      <th>13</th>\n",
       "      <td>главный кредитный аналитик</td>\n",
       "      <td>2023-04-01</td>\n",
       "      <td>37</td>\n",
       "      <td>3</td>\n",
       "      <td>7.50</td>\n",
       "    </tr>\n",
       "    <tr>\n",
       "      <th>115</th>\n",
       "      <td>управляющий директор - начальник отдела</td>\n",
       "      <td>2023-01-01</td>\n",
       "      <td>43</td>\n",
       "      <td>3</td>\n",
       "      <td>6.52</td>\n",
       "    </tr>\n",
       "    <tr>\n",
       "      <th>98</th>\n",
       "      <td>руководитель группы</td>\n",
       "      <td>2023-04-01</td>\n",
       "      <td>34</td>\n",
       "      <td>2</td>\n",
       "      <td>5.56</td>\n",
       "    </tr>\n",
       "    <tr>\n",
       "      <th>97</th>\n",
       "      <td>руководитель группы</td>\n",
       "      <td>2023-03-01</td>\n",
       "      <td>34</td>\n",
       "      <td>2</td>\n",
       "      <td>5.56</td>\n",
       "    </tr>\n",
       "    <tr>\n",
       "      <th>96</th>\n",
       "      <td>руководитель группы</td>\n",
       "      <td>2023-02-01</td>\n",
       "      <td>34</td>\n",
       "      <td>2</td>\n",
       "      <td>5.56</td>\n",
       "    </tr>\n",
       "  </tbody>\n",
       "</table>\n",
       "</div>"
      ],
      "text/plain": [
       "                                   Должность     Период  Табельный номер  \\\n",
       "123          управляющий операционным офисом 2023-04-01               35   \n",
       "12                главный кредитный аналитик 2023-03-01               37   \n",
       "116  управляющий директор - начальник отдела 2023-02-01               43   \n",
       "124          управляющий операционным офисом 2023-05-01               36   \n",
       "14                главный кредитный аналитик 2023-05-01               37   \n",
       "13                главный кредитный аналитик 2023-04-01               37   \n",
       "115  управляющий директор - начальник отдела 2023-01-01               43   \n",
       "98                       руководитель группы 2023-04-01               34   \n",
       "97                       руководитель группы 2023-03-01               34   \n",
       "96                       руководитель группы 2023-02-01               34   \n",
       "\n",
       "     Вакансия  Доля свободных должностей  \n",
       "123         4                      10.26  \n",
       "12          3                       7.50  \n",
       "116         3                       6.52  \n",
       "124         3                       7.69  \n",
       "14          3                       7.50  \n",
       "13          3                       7.50  \n",
       "115         3                       6.52  \n",
       "98          2                       5.56  \n",
       "97          2                       5.56  \n",
       "96          2                       5.56  "
      ]
     },
     "execution_count": 41,
     "metadata": {},
     "output_type": "execute_result"
    }
   ],
   "source": [
    "employees_group2.head(10)"
   ]
  },
  {
   "cell_type": "markdown",
   "id": "c68490c5",
   "metadata": {},
   "source": [
    "# 5. Визуализация"
   ]
  },
  {
   "cell_type": "markdown",
   "id": "5072b256",
   "metadata": {},
   "source": [
    "Для более интерактивных графиков, можно использовать библиотеку plotly.express.\n",
    "- 5.1 Количество действующих сотрудников по Федеральным округам:"
   ]
  },
  {
   "cell_type": "code",
   "execution_count": 42,
   "id": "e46f1c33",
   "metadata": {},
   "outputs": [],
   "source": [
    "workers = employees_complete.query('Период == \"2023-05-01\" & Вакансия == False')\\\n",
    "    .groupby('Федеральный округ',as_index=False)\\\n",
    "    .agg({'Должность':'nunique'})\\\n",
    "    .sort_values('Должность',ascending=False).head(10)"
   ]
  },
  {
   "cell_type": "code",
   "execution_count": 43,
   "id": "663d4ac7",
   "metadata": {},
   "outputs": [
    {
     "data": {
      "image/png": "[encoded data removed]"
     },
     "metadata": {},
     "output_type": "display_data"
    }
   ],
   "source": [
    "df = px.data.tips()\n",
    "fig = px.pie(workers, values='Должность', names='Федеральный округ')\n",
    "fig.show()"
   ]
  },
  {
   "cell_type": "markdown",
   "id": "d849794f",
   "metadata": {},
   "source": [
    "Из данных вышеуказанного графика установлено, что, преимущественно, самым занятым регионом (по самым актуальным данным) является Дальневосточный Федеральный округ - 27 занятых позиций."
   ]
  },
  {
   "cell_type": "markdown",
   "id": "447c3b79",
   "metadata": {},
   "source": [
    "- 5.2. Количество свободных должностей по регионам:"
   ]
  },
  {
   "cell_type": "code",
   "execution_count": 44,
   "id": "1946e314",
   "metadata": {},
   "outputs": [],
   "source": [
    "vacancion = employees_complete.query('Период == \"2023-05-01\" & Вакансия == True')\\\n",
    "    .groupby('Регион',as_index=False)\\\n",
    "    .agg({'Должность':'nunique'})\\\n",
    "    .sort_values('Должность',ascending=False).head(10)"
   ]
  },
  {
   "cell_type": "code",
   "execution_count": 45,
   "id": "e820604f",
   "metadata": {},
   "outputs": [
    {
     "data": {
      "image/png": "[encoded data removed]"
     },
     "metadata": {},
     "output_type": "display_data"
    }
   ],
   "source": [
    "df = px.data.tips()\n",
    "fig = px.pie(vacancion, values='Должность', names='Регион')\n",
    "fig.show()"
   ]
  },
  {
   "cell_type": "markdown",
   "id": "0eb33819",
   "metadata": {},
   "source": [
    "Из данных вышеуказанного графика установлено, что, преимущественно, самым вакантным регионом (по самым актуальным данным) является Нижегородская область - 4 свободных должности."
   ]
  }
 ],
 "metadata": {
  "kernelspec": {
   "display_name": "Python 3 (ipykernel)",
   "language": "python",
   "name": "python3"
  },
  "language_info": {
   "codemirror_mode": {
    "name": "ipython",
    "version": 3
   },
   "file_extension": ".py",
   "mimetype": "text/x-python",
   "name": "python",
   "nbconvert_exporter": "python",
   "pygments_lexer": "ipython3",
   "version": "3.10.9"
  }
 },
 "nbformat": 4,
 "nbformat_minor": 5
}
